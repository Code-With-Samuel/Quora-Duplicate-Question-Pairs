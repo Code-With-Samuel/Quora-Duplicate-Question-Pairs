{
 "cells": [
  {
   "cell_type": "code",
   "execution_count": 3,
   "id": "13e1d6aa-fc67-46af-8edc-a1e95796ca51",
   "metadata": {},
   "outputs": [],
   "source": [
    "import numpy as np\n",
    "import pandas as pd\n",
    "import seaborn as sns\n",
    "import matplotlib.pyplot as plt"
   ]
  },
  {
   "cell_type": "code",
   "execution_count": 4,
   "id": "85f3caa1-76b9-48f5-a41d-08a1d024e7b4",
   "metadata": {},
   "outputs": [
    {
     "data": {
      "text/plain": [
       "(404290, 6)"
      ]
     },
     "execution_count": 4,
     "metadata": {},
     "output_type": "execute_result"
    }
   ],
   "source": [
    "df = pd.read_csv(\"train.csv\")\n",
    "df.shape"
   ]
  },
  {
   "cell_type": "code",
   "execution_count": 28,
   "id": "3e12debc-aac8-4bc0-9fbc-b746ff52cf4d",
   "metadata": {},
   "outputs": [
    {
     "data": {
      "text/html": [
       "<div>\n",
       "<style scoped>\n",
       "    .dataframe tbody tr th:only-of-type {\n",
       "        vertical-align: middle;\n",
       "    }\n",
       "\n",
       "    .dataframe tbody tr th {\n",
       "        vertical-align: top;\n",
       "    }\n",
       "\n",
       "    .dataframe thead th {\n",
       "        text-align: right;\n",
       "    }\n",
       "</style>\n",
       "<table border=\"1\" class=\"dataframe\">\n",
       "  <thead>\n",
       "    <tr style=\"text-align: right;\">\n",
       "      <th></th>\n",
       "      <th>id</th>\n",
       "      <th>qid1</th>\n",
       "      <th>qid2</th>\n",
       "      <th>question1</th>\n",
       "      <th>question2</th>\n",
       "      <th>is_duplicate</th>\n",
       "    </tr>\n",
       "  </thead>\n",
       "  <tbody>\n",
       "    <tr>\n",
       "      <th>0</th>\n",
       "      <td>0</td>\n",
       "      <td>1</td>\n",
       "      <td>2</td>\n",
       "      <td>What is the step by step guide to invest in sh...</td>\n",
       "      <td>What is the step by step guide to invest in sh...</td>\n",
       "      <td>0</td>\n",
       "    </tr>\n",
       "    <tr>\n",
       "      <th>1</th>\n",
       "      <td>1</td>\n",
       "      <td>3</td>\n",
       "      <td>4</td>\n",
       "      <td>What is the story of Kohinoor (Koh-i-Noor) Dia...</td>\n",
       "      <td>What would happen if the Indian government sto...</td>\n",
       "      <td>0</td>\n",
       "    </tr>\n",
       "    <tr>\n",
       "      <th>2</th>\n",
       "      <td>2</td>\n",
       "      <td>5</td>\n",
       "      <td>6</td>\n",
       "      <td>How can I increase the speed of my internet co...</td>\n",
       "      <td>How can Internet speed be increased by hacking...</td>\n",
       "      <td>0</td>\n",
       "    </tr>\n",
       "    <tr>\n",
       "      <th>3</th>\n",
       "      <td>3</td>\n",
       "      <td>7</td>\n",
       "      <td>8</td>\n",
       "      <td>Why am I mentally very lonely? How can I solve...</td>\n",
       "      <td>Find the remainder when [math]23^{24}[/math] i...</td>\n",
       "      <td>0</td>\n",
       "    </tr>\n",
       "    <tr>\n",
       "      <th>4</th>\n",
       "      <td>4</td>\n",
       "      <td>9</td>\n",
       "      <td>10</td>\n",
       "      <td>Which one dissolve in water quikly sugar, salt...</td>\n",
       "      <td>Which fish would survive in salt water?</td>\n",
       "      <td>0</td>\n",
       "    </tr>\n",
       "  </tbody>\n",
       "</table>\n",
       "</div>"
      ],
      "text/plain": [
       "   id  qid1  qid2                                          question1  \\\n",
       "0   0     1     2  What is the step by step guide to invest in sh...   \n",
       "1   1     3     4  What is the story of Kohinoor (Koh-i-Noor) Dia...   \n",
       "2   2     5     6  How can I increase the speed of my internet co...   \n",
       "3   3     7     8  Why am I mentally very lonely? How can I solve...   \n",
       "4   4     9    10  Which one dissolve in water quikly sugar, salt...   \n",
       "\n",
       "                                           question2  is_duplicate  \n",
       "0  What is the step by step guide to invest in sh...             0  \n",
       "1  What would happen if the Indian government sto...             0  \n",
       "2  How can Internet speed be increased by hacking...             0  \n",
       "3  Find the remainder when [math]23^{24}[/math] i...             0  \n",
       "4            Which fish would survive in salt water?             0  "
      ]
     },
     "execution_count": 28,
     "metadata": {},
     "output_type": "execute_result"
    }
   ],
   "source": [
    "df.head(5)"
   ]
  },
  {
   "cell_type": "code",
   "execution_count": 11,
   "id": "b2132c39-478c-4f6d-8418-ec53560355ce",
   "metadata": {},
   "outputs": [
    {
     "data": {
      "text/html": [
       "<div>\n",
       "<style scoped>\n",
       "    .dataframe tbody tr th:only-of-type {\n",
       "        vertical-align: middle;\n",
       "    }\n",
       "\n",
       "    .dataframe tbody tr th {\n",
       "        vertical-align: top;\n",
       "    }\n",
       "\n",
       "    .dataframe thead th {\n",
       "        text-align: right;\n",
       "    }\n",
       "</style>\n",
       "<table border=\"1\" class=\"dataframe\">\n",
       "  <thead>\n",
       "    <tr style=\"text-align: right;\">\n",
       "      <th></th>\n",
       "      <th>id</th>\n",
       "      <th>qid1</th>\n",
       "      <th>qid2</th>\n",
       "      <th>question1</th>\n",
       "      <th>question2</th>\n",
       "      <th>is_duplicate</th>\n",
       "    </tr>\n",
       "  </thead>\n",
       "  <tbody>\n",
       "    <tr>\n",
       "      <th>283077</th>\n",
       "      <td>283077</td>\n",
       "      <td>403117</td>\n",
       "      <td>403118</td>\n",
       "      <td>What is the healthiest diet book?</td>\n",
       "      <td>What is the healthiest diet in the world?</td>\n",
       "      <td>0</td>\n",
       "    </tr>\n",
       "    <tr>\n",
       "      <th>277190</th>\n",
       "      <td>277190</td>\n",
       "      <td>396247</td>\n",
       "      <td>396248</td>\n",
       "      <td>Advantages and disadvantages of young people?</td>\n",
       "      <td>Review of ae dil hai mushkil?</td>\n",
       "      <td>0</td>\n",
       "    </tr>\n",
       "    <tr>\n",
       "      <th>294974</th>\n",
       "      <td>294974</td>\n",
       "      <td>307770</td>\n",
       "      <td>168151</td>\n",
       "      <td>What's your favorite subject in school?</td>\n",
       "      <td>What is your favorite school subject and why?</td>\n",
       "      <td>1</td>\n",
       "    </tr>\n",
       "    <tr>\n",
       "      <th>157713</th>\n",
       "      <td>157713</td>\n",
       "      <td>246529</td>\n",
       "      <td>246530</td>\n",
       "      <td>Should I flash an official rom from CyanogenMo...</td>\n",
       "      <td>CyanogenMod (product): Why is there no stable ...</td>\n",
       "      <td>0</td>\n",
       "    </tr>\n",
       "    <tr>\n",
       "      <th>201273</th>\n",
       "      <td>201273</td>\n",
       "      <td>191266</td>\n",
       "      <td>303238</td>\n",
       "      <td>Why do people write in cursive?</td>\n",
       "      <td>Why do people write?</td>\n",
       "      <td>0</td>\n",
       "    </tr>\n",
       "    <tr>\n",
       "      <th>224950</th>\n",
       "      <td>224950</td>\n",
       "      <td>333169</td>\n",
       "      <td>333170</td>\n",
       "      <td>What are your weight-loss meals?</td>\n",
       "      <td>What are the secrets to weight loss that even ...</td>\n",
       "      <td>0</td>\n",
       "    </tr>\n",
       "    <tr>\n",
       "      <th>320620</th>\n",
       "      <td>320620</td>\n",
       "      <td>293114</td>\n",
       "      <td>379856</td>\n",
       "      <td>What is difference between Group Discussion an...</td>\n",
       "      <td>What is the difference between a group discuss...</td>\n",
       "      <td>0</td>\n",
       "    </tr>\n",
       "    <tr>\n",
       "      <th>122091</th>\n",
       "      <td>122091</td>\n",
       "      <td>197699</td>\n",
       "      <td>22923</td>\n",
       "      <td>Why should/shouldn't I watch Death Note?</td>\n",
       "      <td>What should I watch after \"Death Note\"?</td>\n",
       "      <td>0</td>\n",
       "    </tr>\n",
       "    <tr>\n",
       "      <th>62127</th>\n",
       "      <td>62127</td>\n",
       "      <td>108347</td>\n",
       "      <td>108348</td>\n",
       "      <td>Is it mandatory for U.S. Army Rangers to atten...</td>\n",
       "      <td>Is it mandatory for U.S. Army Rangers to atten...</td>\n",
       "      <td>1</td>\n",
       "    </tr>\n",
       "    <tr>\n",
       "      <th>49610</th>\n",
       "      <td>49610</td>\n",
       "      <td>88276</td>\n",
       "      <td>88277</td>\n",
       "      <td>What does \"a.o.b.f.p.\" after a doctor's name m...</td>\n",
       "      <td>What does \"d.o.\" after a doctor's name mean?</td>\n",
       "      <td>0</td>\n",
       "    </tr>\n",
       "  </tbody>\n",
       "</table>\n",
       "</div>"
      ],
      "text/plain": [
       "            id    qid1    qid2  \\\n",
       "283077  283077  403117  403118   \n",
       "277190  277190  396247  396248   \n",
       "294974  294974  307770  168151   \n",
       "157713  157713  246529  246530   \n",
       "201273  201273  191266  303238   \n",
       "224950  224950  333169  333170   \n",
       "320620  320620  293114  379856   \n",
       "122091  122091  197699   22923   \n",
       "62127    62127  108347  108348   \n",
       "49610    49610   88276   88277   \n",
       "\n",
       "                                                question1  \\\n",
       "283077                  What is the healthiest diet book?   \n",
       "277190      Advantages and disadvantages of young people?   \n",
       "294974            What's your favorite subject in school?   \n",
       "157713  Should I flash an official rom from CyanogenMo...   \n",
       "201273                    Why do people write in cursive?   \n",
       "224950                   What are your weight-loss meals?   \n",
       "320620  What is difference between Group Discussion an...   \n",
       "122091           Why should/shouldn't I watch Death Note?   \n",
       "62127   Is it mandatory for U.S. Army Rangers to atten...   \n",
       "49610   What does \"a.o.b.f.p.\" after a doctor's name m...   \n",
       "\n",
       "                                                question2  is_duplicate  \n",
       "283077          What is the healthiest diet in the world?             0  \n",
       "277190                      Review of ae dil hai mushkil?             0  \n",
       "294974      What is your favorite school subject and why?             1  \n",
       "157713  CyanogenMod (product): Why is there no stable ...             0  \n",
       "201273                               Why do people write?             0  \n",
       "224950  What are the secrets to weight loss that even ...             0  \n",
       "320620  What is the difference between a group discuss...             0  \n",
       "122091            What should I watch after \"Death Note\"?             0  \n",
       "62127   Is it mandatory for U.S. Army Rangers to atten...             1  \n",
       "49610        What does \"d.o.\" after a doctor's name mean?             0  "
      ]
     },
     "execution_count": 11,
     "metadata": {},
     "output_type": "execute_result"
    }
   ],
   "source": [
    "df.sample(10)"
   ]
  },
  {
   "cell_type": "code",
   "execution_count": 9,
   "id": "ff755027-1e34-4570-9645-e66d2ded52fc",
   "metadata": {},
   "outputs": [
    {
     "name": "stdout",
     "output_type": "stream",
     "text": [
      "<class 'pandas.core.frame.DataFrame'>\n",
      "RangeIndex: 404290 entries, 0 to 404289\n",
      "Data columns (total 6 columns):\n",
      " #   Column        Non-Null Count   Dtype \n",
      "---  ------        --------------   ----- \n",
      " 0   id            404290 non-null  int64 \n",
      " 1   qid1          404290 non-null  int64 \n",
      " 2   qid2          404290 non-null  int64 \n",
      " 3   question1     404289 non-null  object\n",
      " 4   question2     404288 non-null  object\n",
      " 5   is_duplicate  404290 non-null  int64 \n",
      "dtypes: int64(4), object(2)\n",
      "memory usage: 18.5+ MB\n"
     ]
    }
   ],
   "source": [
    "df.info()"
   ]
  },
  {
   "cell_type": "code",
   "execution_count": 12,
   "id": "06ee8b01-51c4-45c4-ac94-8f9808d7ca64",
   "metadata": {},
   "outputs": [
    {
     "data": {
      "text/plain": [
       "id              0\n",
       "qid1            0\n",
       "qid2            0\n",
       "question1       1\n",
       "question2       2\n",
       "is_duplicate    0\n",
       "dtype: int64"
      ]
     },
     "execution_count": 12,
     "metadata": {},
     "output_type": "execute_result"
    }
   ],
   "source": [
    "#missing values\n",
    "df.isna().sum()"
   ]
  },
  {
   "cell_type": "code",
   "execution_count": 13,
   "id": "4158932d-f5de-4d1c-9980-41c7bd8a28d2",
   "metadata": {},
   "outputs": [
    {
     "data": {
      "text/plain": [
       "np.int64(0)"
      ]
     },
     "execution_count": 13,
     "metadata": {},
     "output_type": "execute_result"
    }
   ],
   "source": [
    "#duplicate row\n",
    "df.duplicated().sum()"
   ]
  },
  {
   "cell_type": "code",
   "execution_count": 24,
   "id": "a7ed7b4a-e04b-4394-ae14-347c13b1d702",
   "metadata": {},
   "outputs": [
    {
     "name": "stdout",
     "output_type": "stream",
     "text": [
      "is_duplicate\n",
      "0    255027\n",
      "1    149263\n",
      "Name: count, dtype: int64\n",
      "\n",
      "\n",
      "404290\n",
      "\n",
      "\n",
      "is_duplicate\n",
      "0    63.080215\n",
      "1    36.919785\n",
      "Name: count, dtype: float64\n"
     ]
    }
   ],
   "source": [
    "#Distribution of duplicated and non-dupicated questions\n",
    "\n",
    "print(df['is_duplicate'].value_counts())\n",
    "print('\\n')\n",
    "print(df['is_duplicate'].count())\n",
    "print('\\n')\n",
    "print((df['is_duplicate'].value_counts()/df['is_duplicate'].count())*100)"
   ]
  },
  {
   "cell_type": "code",
   "execution_count": 25,
   "id": "1b087a07-9ee0-487f-95d0-d4196a4123e7",
   "metadata": {},
   "outputs": [],
   "source": [
    "# More 0 and less 1. Hence the dataset is unbalanced"
   ]
  },
  {
   "cell_type": "code",
   "execution_count": 38,
   "id": "481551a9-75c0-4bd6-8867-862d8cb5f0c4",
   "metadata": {},
   "outputs": [
    {
     "name": "stdout",
     "output_type": "stream",
     "text": [
      "0              1\n",
      "1              3\n",
      "2              5\n",
      "3              7\n",
      "4              9\n",
      "           ...  \n",
      "808575    379845\n",
      "808576    155606\n",
      "808577    537929\n",
      "808578    537931\n",
      "808579    537933\n",
      "Length: 808580, dtype: int64\n",
      "\n",
      "\n",
      "Unique question IDs in the qid Series [     1      2      3 ... 537931 537932 537933]\n",
      "\n",
      "\n",
      "✅ Number of unique questions 537933\n",
      "\n",
      "\n",
      "\n",
      "\n",
      "\n",
      "\n",
      "2559      157\n",
      "30782     120\n",
      "4044      111\n",
      "2561       88\n",
      "14376      79\n",
      "         ... \n",
      "41          1\n",
      "43          1\n",
      "47          1\n",
      "537929      1\n",
      "537931      1\n",
      "Name: count, Length: 537933, dtype: int64\n",
      "\n",
      "\n",
      "2559       True\n",
      "30782      True\n",
      "4044       True\n",
      "2561       True\n",
      "14376      True\n",
      "          ...  \n",
      "41        False\n",
      "43        False\n",
      "47        False\n",
      "537929    False\n",
      "537931    False\n",
      "Name: count, Length: 537933, dtype: bool\n",
      "\n",
      "\n",
      "✅ Number of questions getting repeated 111780\n"
     ]
    }
   ],
   "source": [
    "#Repeated Questions\n",
    "\n",
    "qid = pd.Series(df['qid1'].tolist() + df['qid2'].tolist())\n",
    "print(qid)\n",
    "print('\\n')\n",
    "print('Unique question IDs in the qid Series', np.unique(qid))\n",
    "print('\\n')\n",
    "print('✅ Number of unique questions', np.unique(qid).shape[0])\n",
    "print('\\n')\n",
    "print('\\n')\n",
    "print('\\n')\n",
    "\n",
    "\n",
    "print(qid.value_counts())\n",
    "print('\\n')\n",
    "\n",
    "x = qid.value_counts()>1\n",
    "print(x)\n",
    "print('\\n')\n",
    "\n",
    "print('✅ Number of questions getting repeated', x[x].shape[0])\n"
   ]
  },
  {
   "cell_type": "code",
   "execution_count": 39,
   "id": "a2190bcb-b9ab-4f5d-a111-dd15121e6866",
   "metadata": {},
   "outputs": [
    {
     "data": {
      "image/png": "[encoded data removed]",
      "text/plain": [
       "<Figure size 640x480 with 1 Axes>"
      ]
     },
     "metadata": {},
     "output_type": "display_data"
    }
   ],
   "source": [
    "#Repeated questions histogram\n",
    "\n",
    "plt.hist(qid.value_counts().values, bins = 160)\n",
    "plt.yscale('log')\n",
    "plt.show()"
   ]
  },
  {
   "cell_type": "code",
   "execution_count": null,
   "id": "b038d066-3d64-4a6d-8310-078a6e9b20e9",
   "metadata": {},
   "outputs": [],
   "source": []
  }
 ],
 "metadata": {
  "kernelspec": {
   "display_name": "Python 3 (ipykernel)",
   "language": "python",
   "name": "python3"
  },
  "language_info": {
   "codemirror_mode": {
    "name": "ipython",
    "version": 3
   },
   "file_extension": ".py",
   "mimetype": "text/x-python",
   "name": "python",
   "nbconvert_exporter": "python",
   "pygments_lexer": "ipython3",
   "version": "3.10.15"
  }
 },
 "nbformat": 4,
 "nbformat_minor": 5
}
